{
 "cells": [
  {
   "cell_type": "code",
   "execution_count": 29,
   "metadata": {
    "collapsed": true
   },
   "outputs": [],
   "source": [
    "import pandas as pd\n",
    "import numpy as np\n",
    "from sklearn import preprocessing\n",
    "from sklearn import linear_model\n",
    "from sklearn import svm\n",
    "from sklearn.metrics import mean_absolute_error\n",
    "from sklearn.metrics import r2_score\n",
    "from sklearn import neighbors\n",
    "from sklearn import tree\n",
    "from sklearn import neural_network\n",
    "from sklearn.model_selection import train_test_split"
   ]
  },
  {
   "cell_type": "code",
   "execution_count": 30,
   "metadata": {
    "collapsed": true
   },
   "outputs": [],
   "source": [
    "#function for cleaning data\n",
    "def clean_Data(dataframe):\n",
    "    #dropping all nan values\n",
    "    dataframe = dataframe.dropna() \n",
    "    \n",
    "    #using label encoder for encoding feature values\n",
    "    le = preprocessing.LabelEncoder()\n",
    "    for column in dataframe.columns:\n",
    "        if column != \"imdb_score\":\n",
    "            dataframe.loc[:, column] = le.fit_transform(dataframe.loc[:, column])\n",
    "    return dataframe"
   ]
  },
  {
   "cell_type": "code",
   "execution_count": 31,
   "metadata": {
    "collapsed": true
   },
   "outputs": [],
   "source": [
    "#function for splitting data into features and label\n",
    "def get_XY_data(dataframe):\n",
    "    \n",
    "    featureColumns = [col for col in dataframe.columns if col != \"imdb_score\"]\n",
    "    X = dataframe[featureColumns]\n",
    "    y = dataframe[\"imdb_score\"]\n",
    "\n",
    "    Xdata = X.values\n",
    "    ydata = y.values\n",
    "\n",
    "    return (Xdata, ydata)"
   ]
  },
  {
   "cell_type": "code",
   "execution_count": 32,
   "metadata": {
    "collapsed": true
   },
   "outputs": [],
   "source": [
    "#function for training and evaluating model\n",
    "def train_and_eval(model):\n",
    "    clf = model\n",
    "    #training model\n",
    "    clf.fit(train_x, train_y)\n",
    "    \n",
    "    #testing model\n",
    "    pred_y = clf.predict(test_x)\n",
    "    return (mean_absolute_error(test_y, pred_y), r2_score(test_y, pred_y))"
   ]
  },
  {
   "cell_type": "code",
   "execution_count": 33,
   "metadata": {},
   "outputs": [
    {
     "name": "stderr",
     "output_type": "stream",
     "text": [
      "C:\\ProgramData\\Anaconda3\\lib\\site-packages\\pandas\\core\\indexing.py:517: SettingWithCopyWarning: \n",
      "A value is trying to be set on a copy of a slice from a DataFrame.\n",
      "Try using .loc[row_indexer,col_indexer] = value instead\n",
      "\n",
      "See the caveats in the documentation: http://pandas.pydata.org/pandas-docs/stable/indexing.html#indexing-view-versus-copy\n",
      "  self.obj[item] = s\n"
     ]
    }
   ],
   "source": [
    "#cleaning data and dividing it into training and testing set\n",
    "data = pd.read_csv(\"movie_metadata.csv\")\n",
    "clean_data = clean_Data(data)\n",
    "x,y = get_XY_data(clean_data)\n",
    "train_x, test_x, train_y, test_y = train_test_split(x, y, test_size=0.20, random_state=42)"
   ]
  },
  {
   "cell_type": "markdown",
   "metadata": {},
   "source": [
    "# Trying different models"
   ]
  },
  {
   "cell_type": "code",
   "execution_count": 34,
   "metadata": {},
   "outputs": [
    {
     "name": "stdout",
     "output_type": "stream",
     "text": [
      "(0.77868140146132991, 0.040570338283270502)\n"
     ]
    }
   ],
   "source": [
    "#SVM regression\n",
    "model = svm.SVR()\n",
    "print(train_and_eval(model))"
   ]
  },
  {
   "cell_type": "code",
   "execution_count": 35,
   "metadata": {},
   "outputs": [
    {
     "name": "stdout",
     "output_type": "stream",
     "text": [
      "(0.58387495055161054, 0.46116021130273654)\n"
     ]
    }
   ],
   "source": [
    "#Linear Bayesian Ridge model\n",
    "model = linear_model.BayesianRidge()\n",
    "print(train_and_eval(model))"
   ]
  },
  {
   "cell_type": "code",
   "execution_count": 36,
   "metadata": {},
   "outputs": [
    {
     "name": "stdout",
     "output_type": "stream",
     "text": [
      "(0.58249083520025347, 0.46402425290944749)\n"
     ]
    }
   ],
   "source": [
    "#Linear regression\n",
    "model = linear_model.LinearRegression()\n",
    "print(train_and_eval(model))"
   ]
  },
  {
   "cell_type": "code",
   "execution_count": 37,
   "metadata": {},
   "outputs": [
    {
     "name": "stdout",
     "output_type": "stream",
     "text": [
      "(1.1790752316663555, -0.9345909256966467)\n"
     ]
    }
   ],
   "source": [
    "#Passive agressive regression\n",
    "model = linear_model.PassiveAggressiveRegressor()\n",
    "print(train_and_eval(model))"
   ]
  },
  {
   "cell_type": "code",
   "execution_count": 38,
   "metadata": {},
   "outputs": [
    {
     "name": "stdout",
     "output_type": "stream",
     "text": [
      "(0.68592858549239655, 0.2358459852473993)\n"
     ]
    }
   ],
   "source": [
    "#K-nearest neighbours\n",
    "model = neighbors.KNeighborsRegressor(weights=\"distance\")\n",
    "print(train_and_eval(model))"
   ]
  },
  {
   "cell_type": "code",
   "execution_count": 39,
   "metadata": {},
   "outputs": [
    {
     "name": "stdout",
     "output_type": "stream",
     "text": [
      "(0.71210106382978722, 0.070965222873965339)\n"
     ]
    }
   ],
   "source": [
    "#decision tree\n",
    "model = tree.DecisionTreeRegressor()\n",
    "print(train_and_eval(model))"
   ]
  },
  {
   "cell_type": "code",
   "execution_count": 40,
   "metadata": {
    "scrolled": false
   },
   "outputs": [
    {
     "name": "stdout",
     "output_type": "stream",
     "text": [
      "(0.79246861548380487, 0.044635320231522502)\n"
     ]
    }
   ],
   "source": [
    "#Multi layer perceptron\n",
    "model = neural_network.MLPRegressor(hidden_layer_sizes = (5,3), activation = \"tanh\", solver = \"lbfgs\")\n",
    "print(train_and_eval(model))"
   ]
  },
  {
   "cell_type": "code",
   "execution_count": 41,
   "metadata": {},
   "outputs": [
    {
     "name": "stdout",
     "output_type": "stream",
     "text": [
      "(0.77952104861096705, 0.078208898986384168)\n"
     ]
    }
   ],
   "source": [
    "#Huber regression\n",
    "model = linear_model.HuberRegressor()\n",
    "print(train_and_eval(model))"
   ]
  },
  {
   "cell_type": "code",
   "execution_count": null,
   "metadata": {
    "collapsed": true
   },
   "outputs": [],
   "source": []
  }
 ],
 "metadata": {
  "kernelspec": {
   "display_name": "Python 3",
   "language": "python",
   "name": "python3"
  },
  "language_info": {
   "codemirror_mode": {
    "name": "ipython",
    "version": 3
   },
   "file_extension": ".py",
   "mimetype": "text/x-python",
   "name": "python",
   "nbconvert_exporter": "python",
   "pygments_lexer": "ipython3",
   "version": "3.6.1"
  }
 },
 "nbformat": 4,
 "nbformat_minor": 2
}
